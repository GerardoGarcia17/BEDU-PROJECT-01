{
 "cells": [
  {
   "cell_type": "code",
   "execution_count": 1,
   "id": "90cf8e94-1c16-4919-acad-23edac42e7d1",
   "metadata": {},
   "outputs": [],
   "source": [
    "import numpy as np\n",
    "import pandas as pd\n",
    "import matplotlib.pyplot as plt\n",
    "import seaborn as sns\n",
    "import datetime as dti"
   ]
  },
  {
   "cell_type": "code",
   "execution_count": 15,
   "id": "ba6e07f6-bf81-4b43-ade1-536cbea914b3",
   "metadata": {},
   "outputs": [
    {
     "ename": "NameError",
     "evalue": "name 'games_list' is not defined",
     "output_type": "error",
     "traceback": [
      "\u001b[1;31m---------------------------------------------------------------------------\u001b[0m",
      "\u001b[1;31mNameError\u001b[0m                                 Traceback (most recent call last)",
      "Cell \u001b[1;32mIn[15], line 93\u001b[0m\n\u001b[0;32m     90\u001b[0m     games_list\u001b[38;5;241m.\u001b[39mappend(game_dict)\n\u001b[0;32m     92\u001b[0m \u001b[38;5;66;03m# Convert the list of dictionaries to a Pandas DataFrame\u001b[39;00m\n\u001b[1;32m---> 93\u001b[0m df \u001b[38;5;241m=\u001b[39m pd\u001b[38;5;241m.\u001b[39mDataFrame(\u001b[43mgames_list\u001b[49m)\n",
      "\u001b[1;31mNameError\u001b[0m: name 'games_list' is not defined"
     ]
    }
   ],
   "source": [
    "# Simple parse of the 'games.json' file.\n",
    "import os\n",
    "import json\n",
    "\n",
    "dataset = {}\n",
    "if os.path.exists('games.json'):\n",
    "  with open('games.json', 'r', encoding='utf-8') as fin:\n",
    "    text = fin.read()\n",
    "    if len(text) > 0:\n",
    "      dataset = json.loads(text)\n",
    "\n",
    "for app in dataset:\n",
    "  appID = app                                         # AppID, unique identifier for each app (string).\n",
    "  game = dataset[app]             \n",
    "\n",
    "  name = game['name']                                 # Game name (string).\n",
    "  releaseDate = game['release_date']                  # Release date (string).\n",
    "  estimatedOwners = game['estimated_owners']          # Estimated owners (string, e.g.: \"0 - 20000\").\n",
    "  peakCCU = game['peak_ccu']                          # Number of concurrent users, yesterday (int).\n",
    "  required_age = game['required_age']                 # Age required to play, 0 if it is for all audiences (int).\n",
    "  price = game['price']                               # Price in USD, 0.0 if its free (float).\n",
    "  dlcCount = game['dlc_count']                        # Number of DLCs, 0 if you have none (int).\n",
    "  longDesc = game['detailed_description']             # Detailed description of the game (string).\n",
    "  shortDesc = game['short_description']               # Brief description of the game,\n",
    "                                                      # does not contain HTML tags (string).\n",
    "  languages = game['supported_languages']             # Comma-separated enumeration of supporting languages.\n",
    "  fullAudioLanguages = game['full_audio_languages']   # Comma-separated enumeration of languages with audio support.\n",
    "  reviews = game['reviews']                           #\n",
    "  headerImage = game['header_image']                  # Header image URL in the store (string).\n",
    "  website = game['website']                           # Game website (string).\n",
    "  supportWeb = game['support_url']                    # Game support URL (string).\n",
    "  supportEmail = game['support_email']                # Game support email (string).\n",
    "  supportWindows = game['windows']                    # Does it support Windows? (bool).\n",
    "  supportMac = game['mac']                            # Does it support Mac? (bool).\n",
    "  supportLinux = game['linux']                        # Does it support Linux? (bool).\n",
    "  metacriticScore = game['metacritic_score']          # Metacritic score, 0 if it has none (int).\n",
    "  metacriticURL = game['metacritic_url']              # Metacritic review URL (string).\n",
    "  userScore = game['user_score']                      # Users score, 0 if it has none (int).\n",
    "  positive = game['positive']                         # Positive votes (int).\n",
    "  negative = game['negative']                         # Negative votes (int).\n",
    "  scoreRank = game['score_rank']                      # Score rank of the game based on user reviews (string).\n",
    "  achievements = game['achievements']                 # Number of achievements, 0 if it has none (int).\n",
    "  recommens = game['recommendations']                 # User recommendations, 0 if it has none (int).\n",
    "  notes = game['notes']                               # Extra information about the game content (string).\n",
    "  averagePlaytime = game['average_playtime_forever']  # Average playtime since March 2009, in minutes (int).\n",
    "  averageplaytime2W = game['average_playtime_2weeks'] # Average playtime in the last two weeks, in minutes (int).\n",
    "  medianPlaytime = game['median_playtime_forever']    # Median playtime since March 2009, in minutes (int).\n",
    "  medianPlaytime2W = game['median_playtime_2weeks']   # Median playtime in the last two weeks, in minutes (int).\n",
    "\n",
    "  packages = game['packages']                         # Available packages.\n",
    "  for pack in packages:           \n",
    "    title = pack['title']                             # Package title (string).\n",
    "    packDesc = pack['description']                    # Package description (string).\n",
    "\n",
    "    subs = pack['subs']                               # Subpackages.\n",
    "    for sub in subs:            \n",
    "      text = sub['text']                              # Subpackage title (string).\n",
    "      subDesc = sub['description']                    # Subpackage description (string).\n",
    "      subPrice = sub['price']                         # Subpackage price in USD (float).\n",
    "\n",
    "  developers = game['developers']                     # Game developers.\n",
    "  for developer in developers:            \n",
    "    developerName = developer                         # Developer name (string).\n",
    "\n",
    "  publishers = game['publishers']                     # Game publishers.\n",
    "  for publisher in publishers:            \n",
    "    publisherName = publisher                         # Publisher name (string).\n",
    "\n",
    "  categories = game['categories']                     # Game categories.\n",
    "  for category in categories:           \n",
    "    categoryName = category                           # Category name (string).\n",
    "\n",
    "  genres = game['genres']                             # Game genres.\n",
    "  for gender in genres:           \n",
    "    genderName = gender                               # Gender name (string).\n",
    "\n",
    "  screenshots = game['scrennshots']                   # Game screenshots.\n",
    "  for screenshot in screenshots:            \n",
    "    scrennshotsURL = screenshot                       # Game screenshot URL (string).\n",
    "\n",
    "  movies = game['movies']                             # Game movies.\n",
    "  for movie in movies:            \n",
    "    movieURL = movie                                  # Game movie URL (string).\n",
    "\n",
    "  tags = game['tags']                                 # Tags.\n",
    "  for tag in tags:           \n",
    "    tagKey = tag                                      # Tag key (string, int).\n",
    "\n",
    "  # Append the game dictionary to the list\n",
    "    games_list.append(game_dict)\n",
    "\n",
    "# Convert the list of dictionaries to a Pandas DataFrame\n",
    "df = pd.DataFrame(games_list)\n"
   ]
  },
  {
   "cell_type": "code",
   "execution_count": 14,
   "id": "e3e0c1ce-6374-4de2-afb1-b198890ad31b",
   "metadata": {},
   "outputs": [
    {
     "ename": "AttributeError",
     "evalue": "module 'pandas' has no attribute 'DatFrame'",
     "output_type": "error",
     "traceback": [
      "\u001b[1;31m---------------------------------------------------------------------------\u001b[0m",
      "\u001b[1;31mAttributeError\u001b[0m                            Traceback (most recent call last)",
      "Cell \u001b[1;32mIn[14], line 1\u001b[0m\n\u001b[1;32m----> 1\u001b[0m df \u001b[38;5;241m=\u001b[39m \u001b[43mpd\u001b[49m\u001b[38;5;241;43m.\u001b[39;49m\u001b[43mDatFrame\u001b[49m(dataset)\n",
      "\u001b[1;31mAttributeError\u001b[0m: module 'pandas' has no attribute 'DatFrame'"
     ]
    }
   ],
   "source": [
    "df.head()"
   ]
  }
 ],
 "metadata": {
  "kernelspec": {
   "display_name": "Python 3 (ipykernel)",
   "language": "python",
   "name": "python3"
  },
  "language_info": {
   "codemirror_mode": {
    "name": "ipython",
    "version": 3
   },
   "file_extension": ".py",
   "mimetype": "text/x-python",
   "name": "python",
   "nbconvert_exporter": "python",
   "pygments_lexer": "ipython3",
   "version": "3.10.11"
  }
 },
 "nbformat": 4,
 "nbformat_minor": 5
}
