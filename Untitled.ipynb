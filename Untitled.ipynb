{
 "cells": [
  {
   "cell_type": "code",
   "execution_count": 26,
   "id": "879e1d39-07be-4915-af5a-74536e2ee86f",
   "metadata": {
    "scrolled": true
   },
   "outputs": [
    {
     "data": {
      "text/html": [
       "<div>\n",
       "<style scoped>\n",
       "    .dataframe tbody tr th:only-of-type {\n",
       "        vertical-align: middle;\n",
       "    }\n",
       "\n",
       "    .dataframe tbody tr th {\n",
       "        vertical-align: top;\n",
       "    }\n",
       "\n",
       "    .dataframe thead th {\n",
       "        text-align: right;\n",
       "    }\n",
       "</style>\n",
       "<table border=\"1\" class=\"dataframe\">\n",
       "  <thead>\n",
       "    <tr style=\"text-align: right;\">\n",
       "      <th></th>\n",
       "      <th>show_id</th>\n",
       "      <th>name</th>\n",
       "      <th>number_of_seasons</th>\n",
       "      <th>number_of_episodes</th>\n",
       "      <th>overview</th>\n",
       "      <th>adult</th>\n",
       "      <th>in_production</th>\n",
       "      <th>original_name</th>\n",
       "      <th>popularity</th>\n",
       "      <th>tagline</th>\n",
       "      <th>eposide_run_time</th>\n",
       "      <th>type_id</th>\n",
       "      <th>status_id</th>\n",
       "    </tr>\n",
       "  </thead>\n",
       "  <tbody>\n",
       "    <tr>\n",
       "      <th>0</th>\n",
       "      <td>1399</td>\n",
       "      <td>Game of Thrones</td>\n",
       "      <td>8</td>\n",
       "      <td>73</td>\n",
       "      <td>Seven noble families fight for control of the ...</td>\n",
       "      <td>0</td>\n",
       "      <td>0</td>\n",
       "      <td>Game of Thrones</td>\n",
       "      <td>1083.917</td>\n",
       "      <td>Winter Is Coming</td>\n",
       "      <td>0</td>\n",
       "      <td>1</td>\n",
       "      <td>1</td>\n",
       "    </tr>\n",
       "    <tr>\n",
       "      <th>1</th>\n",
       "      <td>71446</td>\n",
       "      <td>Money Heist</td>\n",
       "      <td>3</td>\n",
       "      <td>41</td>\n",
       "      <td>To carry out the biggest heist in history  a m...</td>\n",
       "      <td>0</td>\n",
       "      <td>0</td>\n",
       "      <td>La Casa de Papel</td>\n",
       "      <td>96.354</td>\n",
       "      <td>The perfect robbery.</td>\n",
       "      <td>70</td>\n",
       "      <td>1</td>\n",
       "      <td>1</td>\n",
       "    </tr>\n",
       "    <tr>\n",
       "      <th>2</th>\n",
       "      <td>66732</td>\n",
       "      <td>Stranger Things</td>\n",
       "      <td>4</td>\n",
       "      <td>34</td>\n",
       "      <td>When a young boy vanishes  a small town uncove...</td>\n",
       "      <td>0</td>\n",
       "      <td>1</td>\n",
       "      <td>Stranger Things</td>\n",
       "      <td>185.711</td>\n",
       "      <td>Every ending has a beginning.</td>\n",
       "      <td>0</td>\n",
       "      <td>1</td>\n",
       "      <td>2</td>\n",
       "    </tr>\n",
       "    <tr>\n",
       "      <th>3</th>\n",
       "      <td>1402</td>\n",
       "      <td>The Walking Dead</td>\n",
       "      <td>11</td>\n",
       "      <td>177</td>\n",
       "      <td>Sheriff's deputy Rick Grimes awakens from a co...</td>\n",
       "      <td>0</td>\n",
       "      <td>0</td>\n",
       "      <td>The Walking Dead</td>\n",
       "      <td>489.746</td>\n",
       "      <td>Fight the dead. Fear the living.</td>\n",
       "      <td>42</td>\n",
       "      <td>1</td>\n",
       "      <td>1</td>\n",
       "    </tr>\n",
       "    <tr>\n",
       "      <th>4</th>\n",
       "      <td>63174</td>\n",
       "      <td>Lucifer</td>\n",
       "      <td>6</td>\n",
       "      <td>93</td>\n",
       "      <td>Bored and unhappy as the Lord of Hell  Lucifer...</td>\n",
       "      <td>0</td>\n",
       "      <td>0</td>\n",
       "      <td>Lucifer</td>\n",
       "      <td>416.668</td>\n",
       "      <td>It's good to be bad.</td>\n",
       "      <td>45</td>\n",
       "      <td>1</td>\n",
       "      <td>1</td>\n",
       "    </tr>\n",
       "  </tbody>\n",
       "</table>\n",
       "</div>"
      ],
      "text/plain": [
       "   show_id              name  number_of_seasons  number_of_episodes  \\\n",
       "0     1399   Game of Thrones                  8                  73   \n",
       "1    71446       Money Heist                  3                  41   \n",
       "2    66732   Stranger Things                  4                  34   \n",
       "3     1402  The Walking Dead                 11                 177   \n",
       "4    63174           Lucifer                  6                  93   \n",
       "\n",
       "                                            overview  adult  in_production  \\\n",
       "0  Seven noble families fight for control of the ...      0              0   \n",
       "1  To carry out the biggest heist in history  a m...      0              0   \n",
       "2  When a young boy vanishes  a small town uncove...      0              1   \n",
       "3  Sheriff's deputy Rick Grimes awakens from a co...      0              0   \n",
       "4  Bored and unhappy as the Lord of Hell  Lucifer...      0              0   \n",
       "\n",
       "      original_name  popularity                           tagline  \\\n",
       "0   Game of Thrones    1083.917                  Winter Is Coming   \n",
       "1  La Casa de Papel      96.354              The perfect robbery.   \n",
       "2   Stranger Things     185.711     Every ending has a beginning.   \n",
       "3  The Walking Dead     489.746  Fight the dead. Fear the living.   \n",
       "4           Lucifer     416.668              It's good to be bad.   \n",
       "\n",
       "   eposide_run_time  type_id  status_id  \n",
       "0                 0        1          1  \n",
       "1                70        1          1  \n",
       "2                 0        1          2  \n",
       "3                42        1          1  \n",
       "4                45        1          1  "
      ]
     },
     "execution_count": 26,
     "metadata": {},
     "output_type": "execute_result"
    }
   ],
   "source": [
    "import numpy as np\n",
    "import pandas as pd\n",
    "import matplotlib.pyplot as plt\n",
    "import seaborn as sns\n",
    "import datetime as dti\n",
    "\n",
    "\n",
    "df = pd.read_csv('datasets/shows.csv')\n",
    "df.head()"
   ]
  },
  {
   "cell_type": "code",
   "execution_count": 27,
   "id": "6c46c616-d3ad-4932-be84-93ad06e75b18",
   "metadata": {},
   "outputs": [
    {
     "data": {
      "text/plain": [
       "show_id                    0\n",
       "name                       5\n",
       "number_of_seasons          0\n",
       "number_of_episodes         0\n",
       "overview               71388\n",
       "adult                      0\n",
       "in_production              0\n",
       "original_name              5\n",
       "popularity                 0\n",
       "tagline               156883\n",
       "eposide_run_time           0\n",
       "type_id                    0\n",
       "status_id                  0\n",
       "dtype: int64"
      ]
     },
     "execution_count": 27,
     "metadata": {},
     "output_type": "execute_result"
    }
   ],
   "source": [
    "df.isnull().sum()"
   ]
  },
  {
   "cell_type": "code",
   "execution_count": 18,
   "id": "e4f9283d-2e3e-40a4-a8ba-9c9e3f008669",
   "metadata": {},
   "outputs": [
    {
     "data": {
      "text/plain": [
       "Index(['show_id', 'name', 'number_of_seasons', 'number_of_episodes', 'adult',\n",
       "       'in_production', 'original_name', 'popularity', 'eposide_run_time',\n",
       "       'type_id', 'status_id'],\n",
       "      dtype='object')"
      ]
     },
     "execution_count": 18,
     "metadata": {},
     "output_type": "execute_result"
    }
   ],
   "source": [
    "import numpy as np\n",
    "import pandas as pd\n",
    "import matplotlib.pyplot as plt\n",
    "import seaborn as sns\n",
    "import datetime as dti\n",
    "\n",
    "columns = ['show_id', 'name', 'number_of_seasons', 'number_of_episodes',\n",
    "           'adult', 'in_production', 'original_name', \n",
    "           'popularity','eposide_run_time', 'type_id', 'status_id']\n",
    "\n",
    "\n",
    "df = pd.read_csv('datasets/shows.csv',usecols = columns)\n",
    "df.columns"
   ]
  },
  {
   "cell_type": "code",
   "execution_count": 19,
   "id": "480ee164-fac3-4043-aa66-3f30d87553ac",
   "metadata": {},
   "outputs": [
    {
     "data": {
      "text/plain": [
       "Index(['show_id', 'name', 'number_of_seasons', 'number_of_episodes', 'adult',\n",
       "       'in_production', 'original_name', 'popularity', 'eposide_run_time',\n",
       "       'type_id', 'status_id'],\n",
       "      dtype='object')"
      ]
     },
     "execution_count": 19,
     "metadata": {},
     "output_type": "execute_result"
    }
   ],
   "source": [
    "df.columns"
   ]
  },
  {
   "cell_type": "code",
   "execution_count": 20,
   "id": "03fdf953-f647-4b88-84af-eaf4f0c435f9",
   "metadata": {},
   "outputs": [
    {
     "data": {
      "text/plain": [
       "show_id                 int64\n",
       "name                   object\n",
       "number_of_seasons       int64\n",
       "number_of_episodes      int64\n",
       "adult                   int64\n",
       "in_production           int64\n",
       "original_name          object\n",
       "popularity            float64\n",
       "eposide_run_time        int64\n",
       "type_id                 int64\n",
       "status_id               int64\n",
       "dtype: object"
      ]
     },
     "execution_count": 20,
     "metadata": {},
     "output_type": "execute_result"
    }
   ],
   "source": [
    "df.dtypes"
   ]
  },
  {
   "cell_type": "code",
   "execution_count": 21,
   "id": "65b552a2-7f02-433f-abf5-22ad85228003",
   "metadata": {},
   "outputs": [
    {
     "data": {
      "text/plain": [
       "show_id               0\n",
       "name                  5\n",
       "number_of_seasons     0\n",
       "number_of_episodes    0\n",
       "adult                 0\n",
       "in_production         0\n",
       "original_name         5\n",
       "popularity            0\n",
       "eposide_run_time      0\n",
       "type_id               0\n",
       "status_id             0\n",
       "dtype: int64"
      ]
     },
     "execution_count": 21,
     "metadata": {},
     "output_type": "execute_result"
    }
   ],
   "source": [
    "df.isnull().sum()"
   ]
  },
  {
   "cell_type": "code",
   "execution_count": 23,
   "id": "235a3bc0-c1d2-41fd-8a7d-25d58d953036",
   "metadata": {},
   "outputs": [],
   "source": [
    "df_clean = df.dropna()"
   ]
  },
  {
   "cell_type": "code",
   "execution_count": 24,
   "id": "c6c40b7e-1d6d-4eed-9de0-42912a3a1aff",
   "metadata": {},
   "outputs": [
    {
     "data": {
      "text/plain": [
       "show_id               0\n",
       "name                  0\n",
       "number_of_seasons     0\n",
       "number_of_episodes    0\n",
       "adult                 0\n",
       "in_production         0\n",
       "original_name         0\n",
       "popularity            0\n",
       "eposide_run_time      0\n",
       "type_id               0\n",
       "status_id             0\n",
       "dtype: int64"
      ]
     },
     "execution_count": 24,
     "metadata": {},
     "output_type": "execute_result"
    }
   ],
   "source": [
    "df_clean.isnull().sum()"
   ]
  },
  {
   "cell_type": "code",
   "execution_count": 25,
   "id": "545de127-5e70-4095-8d5e-ca93663e66f7",
   "metadata": {},
   "outputs": [
    {
     "data": {
      "text/html": [
       "<div>\n",
       "<style scoped>\n",
       "    .dataframe tbody tr th:only-of-type {\n",
       "        vertical-align: middle;\n",
       "    }\n",
       "\n",
       "    .dataframe tbody tr th {\n",
       "        vertical-align: top;\n",
       "    }\n",
       "\n",
       "    .dataframe thead th {\n",
       "        text-align: right;\n",
       "    }\n",
       "</style>\n",
       "<table border=\"1\" class=\"dataframe\">\n",
       "  <thead>\n",
       "    <tr style=\"text-align: right;\">\n",
       "      <th></th>\n",
       "      <th>show_id</th>\n",
       "      <th>name</th>\n",
       "      <th>number_of_seasons</th>\n",
       "      <th>number_of_episodes</th>\n",
       "      <th>adult</th>\n",
       "      <th>in_production</th>\n",
       "      <th>original_name</th>\n",
       "      <th>popularity</th>\n",
       "      <th>eposide_run_time</th>\n",
       "      <th>type_id</th>\n",
       "      <th>status_id</th>\n",
       "    </tr>\n",
       "  </thead>\n",
       "  <tbody>\n",
       "    <tr>\n",
       "      <th>0</th>\n",
       "      <td>1399</td>\n",
       "      <td>Game of Thrones</td>\n",
       "      <td>8</td>\n",
       "      <td>73</td>\n",
       "      <td>0</td>\n",
       "      <td>0</td>\n",
       "      <td>Game of Thrones</td>\n",
       "      <td>1083.917</td>\n",
       "      <td>0</td>\n",
       "      <td>1</td>\n",
       "      <td>1</td>\n",
       "    </tr>\n",
       "    <tr>\n",
       "      <th>1</th>\n",
       "      <td>71446</td>\n",
       "      <td>Money Heist</td>\n",
       "      <td>3</td>\n",
       "      <td>41</td>\n",
       "      <td>0</td>\n",
       "      <td>0</td>\n",
       "      <td>La Casa de Papel</td>\n",
       "      <td>96.354</td>\n",
       "      <td>70</td>\n",
       "      <td>1</td>\n",
       "      <td>1</td>\n",
       "    </tr>\n",
       "    <tr>\n",
       "      <th>2</th>\n",
       "      <td>66732</td>\n",
       "      <td>Stranger Things</td>\n",
       "      <td>4</td>\n",
       "      <td>34</td>\n",
       "      <td>0</td>\n",
       "      <td>1</td>\n",
       "      <td>Stranger Things</td>\n",
       "      <td>185.711</td>\n",
       "      <td>0</td>\n",
       "      <td>1</td>\n",
       "      <td>2</td>\n",
       "    </tr>\n",
       "    <tr>\n",
       "      <th>3</th>\n",
       "      <td>1402</td>\n",
       "      <td>The Walking Dead</td>\n",
       "      <td>11</td>\n",
       "      <td>177</td>\n",
       "      <td>0</td>\n",
       "      <td>0</td>\n",
       "      <td>The Walking Dead</td>\n",
       "      <td>489.746</td>\n",
       "      <td>42</td>\n",
       "      <td>1</td>\n",
       "      <td>1</td>\n",
       "    </tr>\n",
       "    <tr>\n",
       "      <th>4</th>\n",
       "      <td>63174</td>\n",
       "      <td>Lucifer</td>\n",
       "      <td>6</td>\n",
       "      <td>93</td>\n",
       "      <td>0</td>\n",
       "      <td>0</td>\n",
       "      <td>Lucifer</td>\n",
       "      <td>416.668</td>\n",
       "      <td>45</td>\n",
       "      <td>1</td>\n",
       "      <td>1</td>\n",
       "    </tr>\n",
       "  </tbody>\n",
       "</table>\n",
       "</div>"
      ],
      "text/plain": [
       "   show_id              name  number_of_seasons  number_of_episodes  adult  \\\n",
       "0     1399   Game of Thrones                  8                  73      0   \n",
       "1    71446       Money Heist                  3                  41      0   \n",
       "2    66732   Stranger Things                  4                  34      0   \n",
       "3     1402  The Walking Dead                 11                 177      0   \n",
       "4    63174           Lucifer                  6                  93      0   \n",
       "\n",
       "   in_production     original_name  popularity  eposide_run_time  type_id  \\\n",
       "0              0   Game of Thrones    1083.917                 0        1   \n",
       "1              0  La Casa de Papel      96.354                70        1   \n",
       "2              1   Stranger Things     185.711                 0        1   \n",
       "3              0  The Walking Dead     489.746                42        1   \n",
       "4              0           Lucifer     416.668                45        1   \n",
       "\n",
       "   status_id  \n",
       "0          1  \n",
       "1          1  \n",
       "2          2  \n",
       "3          1  \n",
       "4          1  "
      ]
     },
     "execution_count": 25,
     "metadata": {},
     "output_type": "execute_result"
    }
   ],
   "source": [
    "df_clean.head()"
   ]
  },
  {
   "cell_type": "markdown",
   "id": "b39e94ee-d2ca-465a-85a5-99f2fc4f4453",
   "metadata": {},
   "source": [
    "### Categorias"
   ]
  },
  {
   "cell_type": "code",
   "execution_count": 29,
   "id": "6fd7b6fb-a969-43b1-97ee-0b9620d0b237",
   "metadata": {},
   "outputs": [
    {
     "data": {
      "text/plain": [
       "array([0, 1], dtype=int64)"
      ]
     },
     "execution_count": 29,
     "metadata": {},
     "output_type": "execute_result"
    }
   ],
   "source": [
    "df['adult'].unique()"
   ]
  }
 ],
 "metadata": {
  "kernelspec": {
   "display_name": "Python 3 (ipykernel)",
   "language": "python",
   "name": "python3"
  },
  "language_info": {
   "codemirror_mode": {
    "name": "ipython",
    "version": 3
   },
   "file_extension": ".py",
   "mimetype": "text/x-python",
   "name": "python",
   "nbconvert_exporter": "python",
   "pygments_lexer": "ipython3",
   "version": "3.10.11"
  }
 },
 "nbformat": 4,
 "nbformat_minor": 5
}
